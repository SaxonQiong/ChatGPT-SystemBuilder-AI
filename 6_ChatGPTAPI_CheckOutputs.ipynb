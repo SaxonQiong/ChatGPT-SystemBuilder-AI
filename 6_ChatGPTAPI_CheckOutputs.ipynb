
{
 "cells": [
  {
   "attachments": {},
   "cell_type": "markdown",
   "metadata": {},
   "source": [
    "# L6: Check outputs\n",
    "\n",
    "## Setup\n",
    "Load the API key and relevant Python libaries.\n",
    "In this course, we've provided some code that loads the OpenAI API key for you."
   ]
  },
  {
   "cell_type": "code",
   "execution_count": 1,
   "metadata": {},
   "outputs": [],
   "source": [
    "# Import required packages\n",
    "import openai\n",
    "import os\n",
    "\n",
    "# Define Azure OpenAI endpoint parameters\n",
    "openai.api_type = \"azure\"\n",
    "openai.api_version = \"2023-05-15\"\n",
    "openai.api_base = os.getenv(\"OPENAI_API_BASE\") # Set AOAI endpoint value as env variable\n",
    "openai.api_key = os.getenv(\"OPENAI_API_KEY\") # Set AOAI API key as env variable\n",
    "aoai_deployment = os.getenv(\"OPENAI_API_DEPLOY\") # Set AOAI deployment name as env variable"
   ]
  },
  {
   "attachments": {},
   "cell_type": "markdown",
   "metadata": {},
   "source": [
    "### Helper function"
   ]
  },
  {
   "cell_type": "code",
   "execution_count": 2,
   "metadata": {},
   "outputs": [],
   "source": [
    "def get_completion_from_messages(messages,\n",
    "                                 # model=\"gpt-3.5-turbo\",\n",
    "                                 engine=aoai_deployment,\n",
    "                                 temperature=0,\n",
    "                                 max_tokens=500):\n",
    "    response = openai.ChatCompletion.create(\n",
    "        # model=model, # used by original OpenAI endpoint\n",
    "        engine=engine, # used by Azure OpenAI endpoint\n",
    "        messages=messages,\n",
    "        temperature=temperature, # this is the degree of randomness of the model's output\n",
    "        max_tokens=max_tokens, # the maximum number of tokens the model can ouptut \n",
    "    )\n",
    "    return response.choices[0].message[\"content\"]"
   ]
  },
  {
   "attachments": {},
   "cell_type": "markdown",
   "metadata": {},
   "source": [
    "### Check output for potentially harmful content"
   ]
  },
  {
   "attachments": {},
   "cell_type": "markdown",
   "metadata": {},
   "source": [
    "# !!!!!!!!!!!!!!! NOTE: !!!!!!!!!!!!!!!\n",
    "## Next cell would not work in Azure environment, as Moderation class is not exposed directly but instead complemented with Azure OpenAI Abuse Monitoring and Content Filtering."
   ]
  },
  {
   "cell_type": "code",
   "execution_count": 5,
   "metadata": {},
   "outputs": [],
   "source": [
    "final_response_to_customer = f\"\"\"\n",
    "The SmartX ProPhone has a 6.1-inch display, 128GB storage, \\\n",
    "12MP dual camera, and 5G. The FotoSnap DSLR Camera \\\n",
    "has a 24.2MP sensor, 1080p video, 3-inch LCD, and \\\n",
    "interchangeable lenses. We have a variety of TVs, including \\\n",
    "the CineView 4K TV with a 55-inch display, 4K resolution, \\\n",
    "HDR, and smart TV features. We also have the SoundMax \\\n",
    "Home Theater system with 5.1 channel, 1000W output, wireless \\\n",
    "subwoofer, and Bluetooth. Do you have any specific questions \\\n",
    "about these products or any other products we offer?\n",
    "\"\"\"\n",
    "# response = openai.Moderation.create(\n",
    "#     input=final_response_to_customer\n",
    "# )\n",
    "# moderation_output = response[\"results\"][0]\n",
    "# print(moderation_output)"
   ]
  },
  {
   "attachments": {},
   "cell_type": "markdown",
   "metadata": {},
   "source": [
    "### Check if output is factually based on the provided product information"
   ]
  },
  {
   "cell_type": "code",
   "execution_count": 6,
   "metadata": {},
   "outputs": [
    {
     "name": "stdout",
     "output_type": "stream",
     "text": [
      "Y\n"
     ]
    }
   ],
   "source": [
    "system_message = f\"\"\"\n",
    "You are an assistant that evaluates whether \\\n",
    "customer service agent responses sufficiently \\\n",
    "answer customer questions, and also validates that \\\n",
    "all the facts the assistant cites from the product \\\n",
    "information are correct.\n",
    "The product information and user and customer \\\n",
    "service agent messages will be delimited by \\\n",
    "3 backticks, i.e. ```.\n",
    "Respond with a Y or N character, with no punctuation:\n",
    "Y - if the output sufficiently answers the question \\\n",
    "AND the response correctly uses product information\n",
    "N - otherwise\n",
    "\n",
    "Output a single letter only.\n",
    "\"\"\"\n",
    "customer_message = f\"\"\"\n",
    "tell me about the smartx pro phone and \\\n",
    "the fotosnap camera, the dslr one. \\\n",
    "Also tell me about your tvs\"\"\"\n",
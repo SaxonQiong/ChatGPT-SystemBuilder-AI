
{
 "cells": [
  {
   "attachments": {},
   "cell_type": "markdown",
   "metadata": {},
   "source": [
    "# L1 Language Models, the Chat Format and Tokens\n",
    "\n",
    "## Setup\n",
    "Load the API key and relevant Python libaries.\n",
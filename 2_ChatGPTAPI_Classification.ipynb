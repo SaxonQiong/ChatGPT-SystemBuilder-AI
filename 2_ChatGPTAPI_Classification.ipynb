{
 "cells": [
  {
   "attachments": {},
   "cell_type": "markdown",
   "metadata": {},
   "source": [
    "# L2: Evaluate Inputs: Classification\n",
    "\n",
    "## Setup\n",
    "Load the API key and relevant Python libaries.\n",
    "In this course, we